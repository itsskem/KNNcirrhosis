{
 "cells": [
  {
   "cell_type": "code",
   "execution_count": 454,
   "id": "412a3a75-011a-45e6-9efe-e625b9e7ec9b",
   "metadata": {},
   "outputs": [],
   "source": [
    "import pandas as pd\n",
    "import numpy as np\n",
    "import sqlite3 as sql\n",
    "import matplotlib.pyplot as plt\n",
    "from gensim import corpora, models\n",
    "from sklearn import preprocessing\n",
    "%matplotlib inline"
   ]
  },
  {
   "cell_type": "code",
   "execution_count": 456,
   "id": "d0ce8b04-1e8d-432b-ba49-5027b410273f",
   "metadata": {},
   "outputs": [],
   "source": [
    "database = pd.read_csv('sampleEHR2.csv')"
   ]
  },
  {
   "cell_type": "code",
   "execution_count": 458,
   "id": "2dac6689-8829-4644-82a1-e801622fabc0",
   "metadata": {},
   "outputs": [
    {
     "data": {
      "text/html": [
       "<div>\n",
       "<style scoped>\n",
       "    .dataframe tbody tr th:only-of-type {\n",
       "        vertical-align: middle;\n",
       "    }\n",
       "\n",
       "    .dataframe tbody tr th {\n",
       "        vertical-align: top;\n",
       "    }\n",
       "\n",
       "    .dataframe thead th {\n",
       "        text-align: right;\n",
       "    }\n",
       "</style>\n",
       "<table border=\"1\" class=\"dataframe\">\n",
       "  <thead>\n",
       "    <tr style=\"text-align: right;\">\n",
       "      <th></th>\n",
       "      <th>age</th>\n",
       "      <th>sex</th>\n",
       "      <th>cholesterol</th>\n",
       "      <th>triglyceride</th>\n",
       "      <th>HDL</th>\n",
       "      <th>LDL</th>\n",
       "      <th>PathDiagNum</th>\n",
       "      <th>BMI</th>\n",
       "      <th>ALT</th>\n",
       "      <th>AST</th>\n",
       "      <th>glucose</th>\n",
       "      <th>cirrhosis</th>\n",
       "    </tr>\n",
       "  </thead>\n",
       "  <tbody>\n",
       "    <tr>\n",
       "      <th>0</th>\n",
       "      <td>63</td>\n",
       "      <td>1</td>\n",
       "      <td>103</td>\n",
       "      <td>147</td>\n",
       "      <td>35</td>\n",
       "      <td>38.6</td>\n",
       "      <td>1</td>\n",
       "      <td>20.0</td>\n",
       "      <td>27</td>\n",
       "      <td>35</td>\n",
       "      <td>117</td>\n",
       "      <td>1</td>\n",
       "    </tr>\n",
       "    <tr>\n",
       "      <th>1</th>\n",
       "      <td>68</td>\n",
       "      <td>2</td>\n",
       "      <td>141</td>\n",
       "      <td>95</td>\n",
       "      <td>38</td>\n",
       "      <td>84.0</td>\n",
       "      <td>1</td>\n",
       "      <td>23.1</td>\n",
       "      <td>78</td>\n",
       "      <td>74</td>\n",
       "      <td>98</td>\n",
       "      <td>0</td>\n",
       "    </tr>\n",
       "    <tr>\n",
       "      <th>2</th>\n",
       "      <td>79</td>\n",
       "      <td>1</td>\n",
       "      <td>143</td>\n",
       "      <td>71</td>\n",
       "      <td>60</td>\n",
       "      <td>68.8</td>\n",
       "      <td>1</td>\n",
       "      <td>21.3</td>\n",
       "      <td>44</td>\n",
       "      <td>40</td>\n",
       "      <td>95</td>\n",
       "      <td>1</td>\n",
       "    </tr>\n",
       "    <tr>\n",
       "      <th>3</th>\n",
       "      <td>52</td>\n",
       "      <td>1</td>\n",
       "      <td>126</td>\n",
       "      <td>64</td>\n",
       "      <td>39</td>\n",
       "      <td>74.2</td>\n",
       "      <td>1</td>\n",
       "      <td>34.0</td>\n",
       "      <td>18</td>\n",
       "      <td>26</td>\n",
       "      <td>101</td>\n",
       "      <td>1</td>\n",
       "    </tr>\n",
       "    <tr>\n",
       "      <th>4</th>\n",
       "      <td>77</td>\n",
       "      <td>2</td>\n",
       "      <td>126</td>\n",
       "      <td>49</td>\n",
       "      <td>41</td>\n",
       "      <td>75.2</td>\n",
       "      <td>1</td>\n",
       "      <td>25.7</td>\n",
       "      <td>106</td>\n",
       "      <td>97</td>\n",
       "      <td>128</td>\n",
       "      <td>1</td>\n",
       "    </tr>\n",
       "    <tr>\n",
       "      <th>...</th>\n",
       "      <td>...</td>\n",
       "      <td>...</td>\n",
       "      <td>...</td>\n",
       "      <td>...</td>\n",
       "      <td>...</td>\n",
       "      <td>...</td>\n",
       "      <td>...</td>\n",
       "      <td>...</td>\n",
       "      <td>...</td>\n",
       "      <td>...</td>\n",
       "      <td>...</td>\n",
       "      <td>...</td>\n",
       "    </tr>\n",
       "    <tr>\n",
       "      <th>117</th>\n",
       "      <td>64</td>\n",
       "      <td>2</td>\n",
       "      <td>205</td>\n",
       "      <td>57</td>\n",
       "      <td>68</td>\n",
       "      <td>125.6</td>\n",
       "      <td>1</td>\n",
       "      <td>19.9</td>\n",
       "      <td>38</td>\n",
       "      <td>41</td>\n",
       "      <td>109</td>\n",
       "      <td>0</td>\n",
       "    </tr>\n",
       "    <tr>\n",
       "      <th>118</th>\n",
       "      <td>65</td>\n",
       "      <td>2</td>\n",
       "      <td>143</td>\n",
       "      <td>42</td>\n",
       "      <td>53</td>\n",
       "      <td>81.6</td>\n",
       "      <td>1</td>\n",
       "      <td>27.8</td>\n",
       "      <td>74</td>\n",
       "      <td>75</td>\n",
       "      <td>136</td>\n",
       "      <td>0</td>\n",
       "    </tr>\n",
       "    <tr>\n",
       "      <th>119</th>\n",
       "      <td>66</td>\n",
       "      <td>1</td>\n",
       "      <td>223</td>\n",
       "      <td>89</td>\n",
       "      <td>47</td>\n",
       "      <td>158.2</td>\n",
       "      <td>1</td>\n",
       "      <td>24.3</td>\n",
       "      <td>43</td>\n",
       "      <td>39</td>\n",
       "      <td>120</td>\n",
       "      <td>0</td>\n",
       "    </tr>\n",
       "    <tr>\n",
       "      <th>120</th>\n",
       "      <td>64</td>\n",
       "      <td>1</td>\n",
       "      <td>152</td>\n",
       "      <td>82</td>\n",
       "      <td>56</td>\n",
       "      <td>79.6</td>\n",
       "      <td>1</td>\n",
       "      <td>18.0</td>\n",
       "      <td>35</td>\n",
       "      <td>50</td>\n",
       "      <td>91</td>\n",
       "      <td>1</td>\n",
       "    </tr>\n",
       "    <tr>\n",
       "      <th>121</th>\n",
       "      <td>68</td>\n",
       "      <td>2</td>\n",
       "      <td>152</td>\n",
       "      <td>139</td>\n",
       "      <td>76</td>\n",
       "      <td>48.2</td>\n",
       "      <td>1</td>\n",
       "      <td>26.9</td>\n",
       "      <td>84</td>\n",
       "      <td>69</td>\n",
       "      <td>102</td>\n",
       "      <td>1</td>\n",
       "    </tr>\n",
       "  </tbody>\n",
       "</table>\n",
       "<p>122 rows × 12 columns</p>\n",
       "</div>"
      ],
      "text/plain": [
       "     age  sex  cholesterol  triglyceride  HDL    LDL  PathDiagNum   BMI  ALT  \\\n",
       "0     63    1          103           147   35   38.6            1  20.0   27   \n",
       "1     68    2          141            95   38   84.0            1  23.1   78   \n",
       "2     79    1          143            71   60   68.8            1  21.3   44   \n",
       "3     52    1          126            64   39   74.2            1  34.0   18   \n",
       "4     77    2          126            49   41   75.2            1  25.7  106   \n",
       "..   ...  ...          ...           ...  ...    ...          ...   ...  ...   \n",
       "117   64    2          205            57   68  125.6            1  19.9   38   \n",
       "118   65    2          143            42   53   81.6            1  27.8   74   \n",
       "119   66    1          223            89   47  158.2            1  24.3   43   \n",
       "120   64    1          152            82   56   79.6            1  18.0   35   \n",
       "121   68    2          152           139   76   48.2            1  26.9   84   \n",
       "\n",
       "     AST  glucose  cirrhosis  \n",
       "0     35      117          1  \n",
       "1     74       98          0  \n",
       "2     40       95          1  \n",
       "3     26      101          1  \n",
       "4     97      128          1  \n",
       "..   ...      ...        ...  \n",
       "117   41      109          0  \n",
       "118   75      136          0  \n",
       "119   39      120          0  \n",
       "120   50       91          1  \n",
       "121   69      102          1  \n",
       "\n",
       "[122 rows x 12 columns]"
      ]
     },
     "execution_count": 458,
     "metadata": {},
     "output_type": "execute_result"
    }
   ],
   "source": [
    "database"
   ]
  },
  {
   "cell_type": "code",
   "execution_count": 460,
   "id": "5e35dd79-cdbe-4bd9-aa11-4b8b43fda2bb",
   "metadata": {},
   "outputs": [],
   "source": [
    "connection = sql.connect('my_data2.db')"
   ]
  },
  {
   "cell_type": "code",
   "execution_count": 462,
   "id": "35d1790f-6103-4bae-874f-32989998b48d",
   "metadata": {},
   "outputs": [
    {
     "data": {
      "text/plain": [
       "122"
      ]
     },
     "execution_count": 462,
     "metadata": {},
     "output_type": "execute_result"
    }
   ],
   "source": [
    "database.to_sql('peoples', connection, if_exists='replace', index=False)"
   ]
  },
  {
   "cell_type": "code",
   "execution_count": 464,
   "id": "cea1a7b9-afc4-4d93-bdae-900555e46fca",
   "metadata": {},
   "outputs": [],
   "source": [
    "query = '''\n",
    "SELECT age, sex, cholesterol, triglyceride, HDL, LDL, PathDiagNum, BMI, ALT, AST, glucose, cirrhosis \n",
    "FROM peoples\n",
    "LIMIT 122\n",
    "'''"
   ]
  },
  {
   "cell_type": "code",
   "execution_count": 466,
   "id": "4d1f30d4-4c8c-4127-8c92-35d07800c46e",
   "metadata": {},
   "outputs": [
    {
     "name": "stdout",
     "output_type": "stream",
     "text": [
      "     age  sex  cholesterol  triglyceride  HDL    LDL  PathDiagNum   BMI  ALT  \\\n",
      "0     63    1          103           147   35   38.6            1  20.0   27   \n",
      "1     68    2          141            95   38   84.0            1  23.1   78   \n",
      "2     79    1          143            71   60   68.8            1  21.3   44   \n",
      "3     52    1          126            64   39   74.2            1  34.0   18   \n",
      "4     77    2          126            49   41   75.2            1  25.7  106   \n",
      "..   ...  ...          ...           ...  ...    ...          ...   ...  ...   \n",
      "117   64    2          205            57   68  125.6            1  19.9   38   \n",
      "118   65    2          143            42   53   81.6            1  27.8   74   \n",
      "119   66    1          223            89   47  158.2            1  24.3   43   \n",
      "120   64    1          152            82   56   79.6            1  18.0   35   \n",
      "121   68    2          152           139   76   48.2            1  26.9   84   \n",
      "\n",
      "     AST  glucose  cirrhosis  \n",
      "0     35      117          1  \n",
      "1     74       98          0  \n",
      "2     40       95          1  \n",
      "3     26      101          1  \n",
      "4     97      128          1  \n",
      "..   ...      ...        ...  \n",
      "117   41      109          0  \n",
      "118   75      136          0  \n",
      "119   39      120          0  \n",
      "120   50       91          1  \n",
      "121   69      102          1  \n",
      "\n",
      "[122 rows x 12 columns]\n"
     ]
    }
   ],
   "source": [
    "results = pd.read_sql(query, connection)\n",
    "print(results)"
   ]
  },
  {
   "cell_type": "code",
   "execution_count": 468,
   "id": "a53d5fe6-4e33-43b2-97b3-a8e3521b367c",
   "metadata": {},
   "outputs": [],
   "source": [
    "from sklearn.model_selection import train_test_split\n",
    "from sklearn.preprocessing import StandardScaler\n",
    "from sklearn.neighbors import KNeighborsClassifier\n",
    "from sklearn.metrics import classification_report, accuracy_score\n",
    "from sklearn.feature_extraction.text import CountVectorizer\n",
    "from sklearn.decomposition import PCA  # Import PCA from sklearn"
   ]
  },
  {
   "cell_type": "code",
   "execution_count": 470,
   "id": "8107eee2-5d54-42df-9052-0ed395560984",
   "metadata": {},
   "outputs": [],
   "source": [
    "X = results[['age', 'sex', 'cholesterol', 'triglyceride','HDL', 'LDL', 'PathDiagNum','BMI', 'ALT', 'AST', 'glucose']]\n",
    "y = results['cirrhosis']"
   ]
  },
  {
   "cell_type": "code",
   "execution_count": 472,
   "id": "de7d222b-f347-4932-8518-804dedc8a5a3",
   "metadata": {},
   "outputs": [],
   "source": [
    "if X.isnull().values.any():\n",
    "    raise ValueError(\"Missing values found in the data.\")"
   ]
  },
  {
   "cell_type": "code",
   "execution_count": 474,
   "id": "f8b1a9e2-b97a-458b-9298-d2130f0dc6f1",
   "metadata": {},
   "outputs": [],
   "source": [
    "scaler = StandardScaler()\n",
    "X_scaled = scaler.fit_transform(X)"
   ]
  },
  {
   "cell_type": "code",
   "execution_count": 476,
   "id": "f634557f-548c-4f0c-96f9-7606b6e1071e",
   "metadata": {},
   "outputs": [],
   "source": [
    "pca = PCA(n_components=2)  # Specify the number of principal components\n",
    "X_pca = pca.fit_transform(X_scaled)"
   ]
  },
  {
   "cell_type": "code",
   "execution_count": 478,
   "id": "f9d7930d-f222-4638-8e63-65b5e37adbec",
   "metadata": {},
   "outputs": [],
   "source": [
    "X_train, X_test, y_train, y_test = train_test_split(X_pca, y, test_size=0.3, random_state=42)"
   ]
  },
  {
   "cell_type": "code",
   "execution_count": 480,
   "id": "418ff257-519e-4173-9698-76511516de08",
   "metadata": {},
   "outputs": [
    {
     "name": "stdout",
     "output_type": "stream",
     "text": [
      "Accuracy: 0.4594594594594595\n",
      "              precision    recall  f1-score   support\n",
      "\n",
      "           0       0.32      0.73      0.44        11\n",
      "           1       0.75      0.35      0.47        26\n",
      "\n",
      "    accuracy                           0.46        37\n",
      "   macro avg       0.54      0.54      0.46        37\n",
      "weighted avg       0.62      0.46      0.46        37\n",
      "\n",
      "Predicted customer category: [1]\n"
     ]
    },
    {
     "name": "stderr",
     "output_type": "stream",
     "text": [
      "C:\\Users\\ki2282\\AppData\\Local\\anaconda3\\Lib\\site-packages\\sklearn\\base.py:439: UserWarning: X does not have valid feature names, but StandardScaler was fitted with feature names\n",
      "  warnings.warn(\n"
     ]
    }
   ],
   "source": [
    "knn = KNeighborsClassifier(n_neighbors=2)\n",
    "knn.fit(X_train, y_train)\n",
    "\n",
    "# Predict on the test data\n",
    "y_pred = knn.predict(X_test)\n",
    "\n",
    "# Evaluate the model\n",
    "print(\"Accuracy:\", accuracy_score(y_test, y_pred))\n",
    "print(classification_report(y_test, y_pred))\n",
    "\n",
    "# Example prediction\n",
    "example_data = [[80, 1, 168, 190, 70, 60, 1, 20.8, 74, 77, 134]]  # Replace with actual values\n",
    "example_data_scaled = scaler.transform(example_data)\n",
    "example_data_pca = pca.transform(example_data_scaled)\n",
    "example_prediction = knn.predict(example_data_pca)\n",
    "print(\"Predicted customer category:\", example_prediction)"
   ]
  },
  {
   "cell_type": "code",
   "execution_count": null,
   "id": "0be4601e-e884-4e79-8a93-d52f24672421",
   "metadata": {},
   "outputs": [],
   "source": []
  },
  {
   "cell_type": "code",
   "execution_count": null,
   "id": "4914e02e-085c-42bd-af22-8acc80275f02",
   "metadata": {},
   "outputs": [],
   "source": []
  }
 ],
 "metadata": {
  "kernelspec": {
   "display_name": "Python 3 (ipykernel)",
   "language": "python",
   "name": "python3"
  },
  "language_info": {
   "codemirror_mode": {
    "name": "ipython",
    "version": 3
   },
   "file_extension": ".py",
   "mimetype": "text/x-python",
   "name": "python",
   "nbconvert_exporter": "python",
   "pygments_lexer": "ipython3",
   "version": "3.11.7"
  }
 },
 "nbformat": 4,
 "nbformat_minor": 5
}
